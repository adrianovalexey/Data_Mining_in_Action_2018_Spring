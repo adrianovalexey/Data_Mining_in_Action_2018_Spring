{
 "cells": [
  {
   "cell_type": "markdown",
   "metadata": {},
   "source": [
    "### Входные данные\n",
    "\n",
    "У вас имеется поток данных (генератор data_stream). Поля это случайные величины - так сделано для упрощения генерации данных. Есть три поля (названы по уровню сложности задания)\n",
    "\n",
    "### Задание\n",
    "##### Мотивация:\n",
    "У вас есть куча временных рядов, вы хотите научиться предсказывать следующее значение по 1000 предыдущим. 1000 признаков окна это слишком много, однако вы решили заменить их 5ю: средним, дисперсией, минимумом, медианой и максимумом. Однако, все эти признаки надо подсчитать, причём хочется уметь это делать быстро (в течение часа)\n",
    "##### Для каждого поля нужно сделать следующее:\n",
    "\n",
    "1. Пробежаться по данным окном размера 1000 (окно сдвигается на 1, то есть следующее окно пересекается с предыдущим по 999 элементам).\n",
    "\n",
    "2. Для каждого окна посчитайте среднее значение поля и его дисперсию. Делайте yield этих значений, получая генератор tuple. \n",
    "\n",
    "3. Для каждого окна найдине минимум, медиану и максимум в нём. Делайте yield этих значений, получая генератор tuple. \n",
    "\n",
    "Ответом, который нужно будет засабмитить в гугл форму, является среднее значение tuple по получившемуся потоку, округлённое до 2го знака.\n",
    "\n",
    "### Замечания\n",
    "\n",
    "1. Обратите внимания как генерируются поля. Постарайтесь понять особенность каждого поля и как это можно использовать. Желательно, чтобы для каждого поля у вас было своё решение, максимально эффективно использующее знание об этом поле.\n",
    "2. Полезные библиотеки: itertools, numpy, collections + всё что найдёте в интернете и можно поставить через pip install\n",
    "3. **Медианой отсортированного массива arr считайте значение arr[len(arr) // 2]**\n",
    "\n",
    "\n",
    "\n",
    "Если измерять время работы функций временем работы функции example, то примерное время работы такое:\n",
    "Одновременно среднее, дисперсия - 1.17\n",
    "Одновременно минимум, максимум и медиана:easy - 0.87\n",
    "medium - 2.11\n",
    "nightmare - 2.85\n"
   ]
  },
  {
   "cell_type": "markdown",
   "metadata": {},
   "source": [
    "#### Генерация данных"
   ]
  },
  {
   "cell_type": "code",
   "execution_count": 1,
   "metadata": {
    "collapsed": true
   },
   "outputs": [],
   "source": [
    "from collections import namedtuple\n",
    "import random\n",
    "\n",
    "Record = namedtuple('Record', 'easy medium nightmare')\n",
    "\n",
    "def data_stream():\n",
    "    random_generator = random.Random(42)\n",
    "    easy = 0\n",
    "    for _ in range(10000000):\n",
    "        easy += random_generator.randint(0, 2) \n",
    "        medium = random_generator.randint(0, 256 - 1)\n",
    "        nightmare = random_generator.randint(0, 1000000000 - 1)\n",
    "        \n",
    "        yield Record(\n",
    "            easy=easy,\n",
    "            medium=medium,\n",
    "            nightmare=nightmare\n",
    "        )\n",
    "        \n",
    "def easy_stream():\n",
    "    for record in data_stream():\n",
    "        yield record.easy\n",
    "        \n",
    "def medium_stream():\n",
    "    for record in data_stream():\n",
    "        yield record.medium\n",
    "        \n",
    "def nightmare_stream():\n",
    "    for record in data_stream():\n",
    "        yield record.nightmare"
   ]
  },
  {
   "cell_type": "markdown",
   "metadata": {},
   "source": [
    "#### Подсчёт среднего значения tuple по потоку"
   ]
  },
  {
   "cell_type": "code",
   "execution_count": 2,
   "metadata": {
    "collapsed": true
   },
   "outputs": [],
   "source": [
    "import numpy as np\n",
    "\n",
    "def get_tuple_stream_mean(stream, number_of_values):\n",
    "    result = np.zeros(number_of_values, dtype='object')\n",
    "    count = 0. \n",
    "    for streamed_tuple in stream:\n",
    "        result += streamed_tuple\n",
    "        count += 1\n",
    "    return ['{:0.2f}'.format(x) for x in result / count]"
   ]
  },
  {
   "cell_type": "code",
   "execution_count": 3,
   "metadata": {},
   "outputs": [
    {
     "name": "stdout",
     "output_type": "stream",
     "text": [
      "['127.48', '137.48']\n",
      "CPU times: user 1min 50s, sys: 424 ms, total: 1min 51s\n",
      "Wall time: 1min 51s\n"
     ]
    }
   ],
   "source": [
    "%%time\n",
    "def example(stream):\n",
    "    for value in stream:\n",
    "        yield (value, value + 10)\n",
    "print(get_tuple_stream_mean(example(medium_stream()), 2))"
   ]
  },
  {
   "cell_type": "code",
   "execution_count": 4,
   "metadata": {},
   "outputs": [
    {
     "name": "stdout",
     "output_type": "stream",
     "text": [
      "CPU times: user 57.3 s, sys: 557 ms, total: 57.9 s\n",
      "Wall time: 58 s\n"
     ]
    }
   ],
   "source": [
    "%%time\n",
    "a = 0\n",
    "random_generator = random.Random(42)\n",
    "easy = 0\n",
    "arr_easy = []\n",
    "arr_medium = []\n",
    "arr_nightmare = []\n",
    "means = []\n",
    "median = []\n",
    "maximum = []\n",
    "minimum = []\n",
    "\n",
    "for _ in range(10000000):\n",
    "    easy += random_generator.randint(0, 2) \n",
    "    medium = random_generator.randint(0, 256 - 1)\n",
    "    nightmare = random_generator.randint(0, 1000000000 - 1)\n",
    "    arr_easy.append(easy)\n",
    "    arr_medium.append(medium)\n",
    "    arr_nightmare.append(nightmare)\n",
    "#     if len(arr)>1000:\n",
    "        \n",
    "# print(easy)    "
   ]
  },
  {
   "cell_type": "code",
   "execution_count": 35,
   "metadata": {},
   "outputs": [
    {
     "name": "stdout",
     "output_type": "stream",
     "text": [
      "CPU times: user 26.1 ms, sys: 32 ms, total: 58.1 ms\n",
      "Wall time: 56.6 ms\n"
     ]
    }
   ],
   "source": [
    "%%time\n",
    "import numpy as np \n",
    "arr_easy = np.asarray(arr_easy)\n",
    "arr_medium = np.asarray(arr_medium)\n",
    "arr_nightmare = np.asarray(arr_nightmare, dtype=np.float64)\n",
    "\n",
    "# list = numpy.array(list, dtype=numpy.float64)"
   ]
  },
  {
   "cell_type": "markdown",
   "metadata": {},
   "source": [
    "### Функция расчета среднего и дисперсии для окна"
   ]
  },
  {
   "cell_type": "code",
   "execution_count": 6,
   "metadata": {
    "collapsed": true
   },
   "outputs": [],
   "source": [
    "def var_mean(arr, frame):\n",
    "    k= 0\n",
    "    windows = []\n",
    "    means = []\n",
    "    variations = []\n",
    "    mysums = []\n",
    "    mysquared_sums = []\n",
    "    sums = sum(arr[:frame])\n",
    "    mysums.append(sums)\n",
    "    squared_sums = sum(arr[:frame]*arr[:frame])\n",
    "    mysquared_sums.append(squared_sums)\n",
    "    mean = sums/frame\n",
    "    means.append(mean)\n",
    "    kters = []\n",
    "    iters = []\n",
    "#     kters.append(k)\n",
    "    \n",
    "    var = (squared_sums - 2*mean*sums + frame*mean*mean)/(frame-1)\n",
    "    variations.append(var)\n",
    "    \n",
    "    for i in range(len(arr)):\n",
    "        if i > 999:\n",
    "            \n",
    "            sums = sums - arr[k] + arr[i]\n",
    "            squared_sums = squared_sums - arr[k]*arr[k] + arr[i]*arr[i]\n",
    "            \n",
    "            mean = sums/frame\n",
    "            var = (squared_sums - 2*mean*sums + frame*mean*mean)/(frame-1)\n",
    "            \n",
    "            means.append(mean)\n",
    "            variations.append(var)\n",
    "            \n",
    "            mysums.append(sums)\n",
    "            mysquared_sums.append(squared_sums)\n",
    "            kters.append(k)\n",
    "            iters.append(i)\n",
    "            k=k+1\n",
    "            \n",
    "    return (means, variations, mysums, mysquared_sums, kters, iters)"
   ]
  },
  {
   "cell_type": "code",
   "execution_count": 7,
   "metadata": {},
   "outputs": [
    {
     "name": "stdout",
     "output_type": "stream",
     "text": [
      "CPU times: user 43.3 s, sys: 1.03 s, total: 44.3 s\n",
      "Wall time: 44.4 s\n"
     ]
    }
   ],
   "source": [
    "%%time\n",
    "means_easy = var_mean(arr_easy, 1000) "
   ]
  },
  {
   "cell_type": "code",
   "execution_count": 8,
   "metadata": {},
   "outputs": [
    {
     "data": {
      "text/plain": [
       "[503.78899999999999, 504.803, 505.81599999999997, 506.82999999999998]"
      ]
     },
     "execution_count": 8,
     "metadata": {},
     "output_type": "execute_result"
    }
   ],
   "source": [
    "means_easy[0][:4]"
   ]
  },
  {
   "cell_type": "code",
   "execution_count": 9,
   "metadata": {},
   "outputs": [
    {
     "data": {
      "text/plain": [
       "503.78899999999999"
      ]
     },
     "execution_count": 9,
     "metadata": {},
     "output_type": "execute_result"
    }
   ],
   "source": [
    "np.mean(arr_easy[:1000])"
   ]
  },
  {
   "cell_type": "code",
   "execution_count": 10,
   "metadata": {},
   "outputs": [
    {
     "name": "stdout",
     "output_type": "stream",
     "text": [
      "CPU times: user 43.3 s, sys: 1.27 s, total: 44.6 s\n",
      "Wall time: 44.9 s\n"
     ]
    }
   ],
   "source": [
    "%%time\n",
    "means_medium = var_mean(arr_medium, 1000)"
   ]
  },
  {
   "cell_type": "code",
   "execution_count": 38,
   "metadata": {},
   "outputs": [
    {
     "name": "stdout",
     "output_type": "stream",
     "text": [
      "CPU times: user 29.3 s, sys: 1.58 s, total: 30.8 s\n",
      "Wall time: 30.9 s\n"
     ]
    }
   ],
   "source": [
    "%%time\n",
    "means_nightmare = var_mean(arr_nightmare, 1000)"
   ]
  },
  {
   "cell_type": "code",
   "execution_count": 43,
   "metadata": {},
   "outputs": [
    {
     "data": {
      "text/plain": [
       "[5504.8559269269253,\n",
       " 5506.6103663663671,\n",
       " 5515.7187177177193,\n",
       " 5518.3714714714733]"
      ]
     },
     "execution_count": 43,
     "metadata": {},
     "output_type": "execute_result"
    }
   ],
   "source": [
    "means_medium[1][:4]"
   ]
  },
  {
   "cell_type": "code",
   "execution_count": 57,
   "metadata": {},
   "outputs": [
    {
     "data": {
      "text/plain": [
       "-1.8189894035458565e-12"
      ]
     },
     "execution_count": 57,
     "metadata": {},
     "output_type": "execute_result"
    }
   ],
   "source": [
    "np.var(arr_medium[2:1002], ddof = 1) - means_medium[1][2]"
   ]
  },
  {
   "cell_type": "code",
   "execution_count": null,
   "metadata": {
    "collapsed": true
   },
   "outputs": [],
   "source": []
  },
  {
   "cell_type": "code",
   "execution_count": 40,
   "metadata": {},
   "outputs": [
    {
     "data": {
      "text/plain": [
       "[77760918748414528.0,\n",
       " 77781217654627856.0,\n",
       " 77739651100151280.0,\n",
       " 77773432400888576.0]"
      ]
     },
     "execution_count": 40,
     "metadata": {},
     "output_type": "execute_result"
    }
   ],
   "source": [
    "means_nightmare[1][:4]"
   ]
  },
  {
   "cell_type": "code",
   "execution_count": 55,
   "metadata": {},
   "outputs": [
    {
     "data": {
      "text/plain": [
       "-48.0"
      ]
     },
     "execution_count": 55,
     "metadata": {},
     "output_type": "execute_result"
    }
   ],
   "source": [
    "np.var(arr_nightmare[4:1004], ddof = 1)- means_nightmare[1][4]"
   ]
  },
  {
   "cell_type": "code",
   "execution_count": 36,
   "metadata": {},
   "outputs": [],
   "source": [
    "squared_sums = arr_nightmare[:1000]**2"
   ]
  },
  {
   "cell_type": "code",
   "execution_count": 37,
   "metadata": {},
   "outputs": [
    {
     "data": {
      "text/plain": [
       "3.2050617974655694e+20"
      ]
     },
     "execution_count": 37,
     "metadata": {},
     "output_type": "execute_result"
    }
   ],
   "source": [
    "sum(squared_sums)"
   ]
  },
  {
   "cell_type": "markdown",
   "metadata": {},
   "source": [
    "### Делаем сабмит в форму высчитав среднее значение для полученных потоков"
   ]
  },
  {
   "cell_type": "code",
   "execution_count": 12,
   "metadata": {},
   "outputs": [
    {
     "name": "stdout",
     "output_type": "stream",
     "text": [
      "average_easy =  ['4999675.28']\n",
      "var_easy =  ['83522.86']\n",
      "CPU times: user 2min 11s, sys: 4.25 s, total: 2min 16s\n",
      "Wall time: 2min 17s\n"
     ]
    }
   ],
   "source": [
    "%%time\n",
    "print('average_easy = ', get_tuple_stream_mean(var_mean(arr_easy, 1000)[0], 1))\n",
    "print('var_easy = ', get_tuple_stream_mean(var_mean(arr_easy, 1000)[1], 1))"
   ]
  },
  {
   "cell_type": "code",
   "execution_count": 13,
   "metadata": {},
   "outputs": [
    {
     "name": "stdout",
     "output_type": "stream",
     "text": [
      "average_medium =  ['127.48']\n",
      "var_medium =  ['5460.63']\n",
      "CPU times: user 42 s, sys: 1.43 s, total: 43.4 s\n",
      "Wall time: 43.7 s\n"
     ]
    }
   ],
   "source": [
    "%%time\n",
    "print('average_medium = ', get_tuple_stream_mean(means_medium[0], 1))\n",
    "print('var_medium = ', get_tuple_stream_mean(means_medium[1], 1))"
   ]
  },
  {
   "cell_type": "code",
   "execution_count": 49,
   "metadata": {},
   "outputs": [
    {
     "name": "stdout",
     "output_type": "stream",
     "text": [
      "average_nightmare =  ['499880345.88']\n",
      "var_nightmare =  ['83312220784800192.00']\n",
      "CPU times: user 45.6 s, sys: 223 ms, total: 45.8 s\n",
      "Wall time: 46.1 s\n"
     ]
    }
   ],
   "source": [
    "%%time\n",
    "print('average_nightmare = ', get_tuple_stream_mean(means_nightmare[0], 1))\n",
    "print('var_nightmare = ', get_tuple_stream_mean(means_nightmare[1], 1))"
   ]
  },
  {
   "cell_type": "markdown",
   "metadata": {},
   "source": [
    "### Следящая Медиана"
   ]
  },
  {
   "cell_type": "code",
   "execution_count": 15,
   "metadata": {},
   "outputs": [],
   "source": [
    "\"\"\"\n",
    " Purpose: The main purpose is to demonstrate how to find the running median, mode and \n",
    "          mean over a sequence (list) of integers or reals or a mix of integers and reals.\n",
    "          The secondary purpose, is to inspire Python programmers to explore some of\n",
    "          the powerful packages (e.g. collections) available to the Python community and \n",
    "          to learn more about list comprehension and lambda functions.\n",
    "    Note:        \n",
    "       1. Much of the code here has been taken from code posted to the web (e.g. stackoverflow)\n",
    "          by other Python programmers (e.g. Peter Otten)\n",
    "\n",
    "  Author: V. Stokes (vs@it.uu.se)  \n",
    " Version: 2013.03.06\n",
    "\n",
    "\"\"\"\n",
    "import numpy as np\n",
    "\n",
    "#*******************************************************\n",
    "\n",
    "from collections import deque,Counter\n",
    "from bisect import insort, bisect_left\n",
    "from itertools import islice\n",
    "\n",
    "def RunningMode(seq,N,M):\n",
    "    \"\"\"\n",
    "    Purpose: Find the mode for the points in a sliding window as it \n",
    "             is moved from left (beginning of seq) to right (end of seq)\n",
    "             by one point at a time.\n",
    "     Inputs:\n",
    "          seq -- list containing items for which a running mode (in a sliding window) is \n",
    "                 to be calculated\n",
    "            N -- length of sequence                      \n",
    "            M -- number of items in window (window size) -- must be an integer > 1\n",
    "     Otputs:\n",
    "        modes -- list of modes with size M - N + 1\n",
    "       Note:\n",
    "         1. The mode is the value that appears most often in a set of data.\n",
    "         2. In the case of ties it the last of the ties that is taken as the mode (this\n",
    "            is not by definition).\n",
    "    \"\"\"    \n",
    "    # Load deque with first window of seq \n",
    "    d = deque(seq[0:M]) \n",
    "\n",
    "    modes = [Counter(d).most_common(1)[0][0]]  # contains mode of first window\n",
    "\n",
    "    # Now slide the window by one point to the right for each new position (each pass through \n",
    "    # the loop). Stop when the item in the right end of the deque contains the last item in seq\n",
    "    for item in islice(seq,M,N):\n",
    "        old = d.popleft()                      # pop oldest from left\n",
    "        d.append(item)                         # push newest in from right\n",
    "        modes.append(Counter(d).most_common(1)[0][0])        \n",
    "    return modes    \n",
    "\n",
    "def RunningMedian(seq, M):\n",
    "    \"\"\"\n",
    "     Purpose: Find the median for the points in a sliding window (odd number in size) \n",
    "              as it is moved from left to right by one point at a time.\n",
    "      Inputs:\n",
    "            seq -- list containing items for which a running median (in a sliding window) \n",
    "                   is to be calculated\n",
    "              M -- number of items in window (window size) -- must be an integer > 1\n",
    "      Otputs:\n",
    "         medians -- list of medians with size N - M + 1\n",
    "       Note:\n",
    "         1. The median of a finite list of numbers is the \"center\" value when this list\n",
    "            is sorted in ascending order. \n",
    "         2. If M is an even number the two elements in the window that\n",
    "            are close to the center are averaged to give the median (this\n",
    "            is not by definition)\n",
    "    \"\"\"   \n",
    "    seq = iter(seq)\n",
    "    s = []   \n",
    "    m = M // 2\n",
    "\n",
    "    # Set up list s (to be sorted) and load deque with first window of seq\n",
    "    s = [item for item in islice(seq,M)]    \n",
    "    d = deque(s)\n",
    "\n",
    "    # Simple lambda function to handle even/odd window sizes    \n",
    "    median = lambda : s[m] if bool(M&1) else (s[m-1]+s[m])*0.5\n",
    "\n",
    "    # Sort it in increasing order and extract the median (\"center\" of the sorted window)\n",
    "    s.sort()    \n",
    "    medians = [median()]   \n",
    "\n",
    "    # Now slide the window by one point to the right for each new position (each pass through \n",
    "    # the loop). Stop when the item in the right end of the deque contains the last item in seq\n",
    "    for item in seq:\n",
    "        old = d.popleft()          # pop oldest from left\n",
    "        d.append(item)             # push newest in from right\n",
    "        del s[bisect_left(s, old)] # locate insertion point and then remove old \n",
    "        insort(s, item)            # insert newest such that new sort is not required        \n",
    "        medians.append(median())  \n",
    "    return medians"
   ]
  },
  {
   "cell_type": "code",
   "execution_count": 16,
   "metadata": {},
   "outputs": [
    {
     "name": "stdout",
     "output_type": "stream",
     "text": [
      "CPU times: user 35.3 s, sys: 402 ms, total: 35.7 s\n",
      "Wall time: 35.9 s\n"
     ]
    }
   ],
   "source": [
    "%%time\n",
    "medians_easy = RunningMedian(arr_easy,1000)"
   ]
  },
  {
   "cell_type": "code",
   "execution_count": 17,
   "metadata": {},
   "outputs": [
    {
     "name": "stdout",
     "output_type": "stream",
     "text": [
      "CPU times: user 36.6 s, sys: 228 ms, total: 36.9 s\n",
      "Wall time: 36.9 s\n"
     ]
    }
   ],
   "source": [
    "%%time\n",
    "medians_medium = RunningMedian(arr_medium,1000)"
   ]
  },
  {
   "cell_type": "code",
   "execution_count": 18,
   "metadata": {},
   "outputs": [
    {
     "name": "stdout",
     "output_type": "stream",
     "text": [
      "CPU times: user 36.8 s, sys: 251 ms, total: 37.1 s\n",
      "Wall time: 37.1 s\n"
     ]
    }
   ],
   "source": [
    "%%time\n",
    "medians_nightmare = RunningMedian(arr_nightmare,1000)"
   ]
  },
  {
   "cell_type": "code",
   "execution_count": 85,
   "metadata": {},
   "outputs": [
    {
     "name": "stdout",
     "output_type": "stream",
     "text": [
      "medians_easy =  ['4999675.28']\n",
      "CPU times: user 22.6 s, sys: 46 ms, total: 22.7 s\n",
      "Wall time: 22.7 s\n"
     ]
    }
   ],
   "source": [
    "%%time\n",
    "print('medians_easy = ', get_tuple_stream_mean(medians_easy, 1))"
   ]
  },
  {
   "cell_type": "code",
   "execution_count": 86,
   "metadata": {},
   "outputs": [
    {
     "name": "stdout",
     "output_type": "stream",
     "text": [
      "medians_medium =  ['127.47']\n",
      "CPU times: user 22.4 s, sys: 331 ms, total: 22.7 s\n",
      "Wall time: 22.8 s\n"
     ]
    }
   ],
   "source": [
    "%%time\n",
    "print('medians_medium = ', get_tuple_stream_mean(medians_medium, 1))"
   ]
  },
  {
   "cell_type": "code",
   "execution_count": 87,
   "metadata": {},
   "outputs": [
    {
     "name": "stdout",
     "output_type": "stream",
     "text": [
      "medians__nightmare =  ['499938215.19']\n",
      "CPU times: user 21.7 s, sys: 328 ms, total: 22.1 s\n",
      "Wall time: 22.1 s\n"
     ]
    }
   ],
   "source": [
    "%%time\n",
    "print('medians__nightmare = ', get_tuple_stream_mean(medians_nightmare, 1))"
   ]
  },
  {
   "cell_type": "markdown",
   "metadata": {},
   "source": [
    "### Следящий максимум и минимум"
   ]
  },
  {
   "cell_type": "code",
   "execution_count": 19,
   "metadata": {
    "collapsed": true
   },
   "outputs": [],
   "source": [
    "import pandas as pd"
   ]
  },
  {
   "cell_type": "code",
   "execution_count": 20,
   "metadata": {
    "collapsed": true
   },
   "outputs": [],
   "source": [
    "frame = pd.DataFrame()\n",
    "frame['easy'] = arr_easy\n",
    "frame['medium'] = arr_medium\n",
    "frame['nightmare'] = arr_nightmare"
   ]
  },
  {
   "cell_type": "code",
   "execution_count": 58,
   "metadata": {},
   "outputs": [
    {
     "data": {
      "text/html": [
       "<div>\n",
       "<style>\n",
       "    .dataframe thead tr:only-child th {\n",
       "        text-align: right;\n",
       "    }\n",
       "\n",
       "    .dataframe thead th {\n",
       "        text-align: left;\n",
       "    }\n",
       "\n",
       "    .dataframe tbody tr th {\n",
       "        vertical-align: top;\n",
       "    }\n",
       "</style>\n",
       "<table border=\"1\" class=\"dataframe\">\n",
       "  <thead>\n",
       "    <tr style=\"text-align: right;\">\n",
       "      <th></th>\n",
       "      <th>easy</th>\n",
       "      <th>medium</th>\n",
       "      <th>nightmare</th>\n",
       "    </tr>\n",
       "  </thead>\n",
       "  <tbody>\n",
       "    <tr>\n",
       "      <th>0</th>\n",
       "      <td>2</td>\n",
       "      <td>57</td>\n",
       "      <td>26855092</td>\n",
       "    </tr>\n",
       "    <tr>\n",
       "      <th>1</th>\n",
       "      <td>4</td>\n",
       "      <td>140</td>\n",
       "      <td>262950628</td>\n",
       "    </tr>\n",
       "    <tr>\n",
       "      <th>2</th>\n",
       "      <td>4</td>\n",
       "      <td>71</td>\n",
       "      <td>790779946</td>\n",
       "    </tr>\n",
       "    <tr>\n",
       "      <th>3</th>\n",
       "      <td>4</td>\n",
       "      <td>44</td>\n",
       "      <td>634036506</td>\n",
       "    </tr>\n",
       "    <tr>\n",
       "      <th>4</th>\n",
       "      <td>5</td>\n",
       "      <td>16</td>\n",
       "      <td>31994523</td>\n",
       "    </tr>\n",
       "  </tbody>\n",
       "</table>\n",
       "</div>"
      ],
      "text/plain": [
       "   easy  medium  nightmare\n",
       "0     2      57   26855092\n",
       "1     4     140  262950628\n",
       "2     4      71  790779946\n",
       "3     4      44  634036506\n",
       "4     5      16   31994523"
      ]
     },
     "execution_count": 58,
     "metadata": {},
     "output_type": "execute_result"
    }
   ],
   "source": [
    "frame.head()"
   ]
  },
  {
   "cell_type": "code",
   "execution_count": 69,
   "metadata": {},
   "outputs": [
    {
     "name": "stdout",
     "output_type": "stream",
     "text": [
      "CPU times: user 771 ms, sys: 270 ms, total: 1.04 s\n",
      "Wall time: 1.05 s\n"
     ]
    }
   ],
   "source": [
    "%%time\n",
    "easy_max = frame['easy'].rolling(window=1000).max()\n",
    "easy_min = frame['easy'].rolling(window=1000).min()"
   ]
  },
  {
   "cell_type": "code",
   "execution_count": 70,
   "metadata": {},
   "outputs": [
    {
     "name": "stdout",
     "output_type": "stream",
     "text": [
      "CPU times: user 943 ms, sys: 338 ms, total: 1.28 s\n",
      "Wall time: 1.28 s\n"
     ]
    }
   ],
   "source": [
    "%%time\n",
    "medium_max = frame['medium'].rolling(window=1000).max()\n",
    "medium_min = frame['medium'].rolling(window=1000).min()"
   ]
  },
  {
   "cell_type": "code",
   "execution_count": 75,
   "metadata": {},
   "outputs": [
    {
     "name": "stdout",
     "output_type": "stream",
     "text": [
      "CPU times: user 891 ms, sys: 282 ms, total: 1.17 s\n",
      "Wall time: 1.18 s\n"
     ]
    }
   ],
   "source": [
    "%%time\n",
    "nightmare_max = frame['nightmare'].rolling(window=1000).max()\n",
    "nightmare_min = frame['nightmare'].rolling(window=1000).min()"
   ]
  },
  {
   "cell_type": "code",
   "execution_count": 76,
   "metadata": {},
   "outputs": [
    {
     "name": "stdout",
     "output_type": "stream",
     "text": [
      "CPU times: user 397 ms, sys: 124 ms, total: 522 ms\n",
      "Wall time: 521 ms\n"
     ]
    }
   ],
   "source": [
    "%%time\n",
    "nightmare_var = frame['nightmare'].rolling(window=1000).var()"
   ]
  },
  {
   "cell_type": "code",
   "execution_count": 90,
   "metadata": {},
   "outputs": [
    {
     "name": "stdout",
     "output_type": "stream",
     "text": [
      "max_easy =  ['5000174.76']\n",
      "min_easy =  ['4999175.79']\n",
      "CPU times: user 46.5 s, sys: 107 ms, total: 46.6 s\n",
      "Wall time: 46.7 s\n"
     ]
    }
   ],
   "source": [
    "%%time\n",
    "print('max_easy = ', get_tuple_stream_mean(easy_max[999:], 1))\n",
    "print('min_easy = ', get_tuple_stream_mean(easy_min[999:], 1))"
   ]
  },
  {
   "cell_type": "code",
   "execution_count": 91,
   "metadata": {},
   "outputs": [
    {
     "name": "stdout",
     "output_type": "stream",
     "text": [
      "max_medium =  ['254.98']\n",
      "min_medium =  ['0.02']\n",
      "CPU times: user 45.1 s, sys: 159 ms, total: 45.2 s\n",
      "Wall time: 45.4 s\n"
     ]
    }
   ],
   "source": [
    "%%time\n",
    "print('max_medium = ', get_tuple_stream_mean(medium_max[999:], 1))\n",
    "print('min_medium = ', get_tuple_stream_mean(medium_min[999:], 1))"
   ]
  },
  {
   "cell_type": "code",
   "execution_count": 92,
   "metadata": {},
   "outputs": [
    {
     "name": "stdout",
     "output_type": "stream",
     "text": [
      "max_nightmare =  ['999017359.97']\n",
      "min_nightmare =  ['1017512.29']\n",
      "CPU times: user 45.5 s, sys: 110 ms, total: 45.7 s\n",
      "Wall time: 45.7 s\n"
     ]
    }
   ],
   "source": [
    "%%time\n",
    "print('max_nightmare = ', get_tuple_stream_mean(nightmare_max[999:], 1))\n",
    "print('min_nightmare = ', get_tuple_stream_mean(nightmare_min[999:], 1))"
   ]
  },
  {
   "cell_type": "code",
   "execution_count": 93,
   "metadata": {},
   "outputs": [
    {
     "name": "stdout",
     "output_type": "stream",
     "text": [
      "CPU times: user 419 ms, sys: 369 ms, total: 788 ms\n",
      "Wall time: 848 ms\n"
     ]
    }
   ],
   "source": [
    "%%time\n",
    "easy_mean = frame['easy'].rolling(window=1000).mean()"
   ]
  },
  {
   "cell_type": "code",
   "execution_count": 96,
   "metadata": {},
   "outputs": [
    {
     "data": {
      "text/plain": [
       "4999675.27649437"
      ]
     },
     "execution_count": 96,
     "metadata": {},
     "output_type": "execute_result"
    }
   ],
   "source": [
    "np.mean(easy_mean[999:])"
   ]
  },
  {
   "cell_type": "code",
   "execution_count": null,
   "metadata": {
    "collapsed": true
   },
   "outputs": [],
   "source": [
    "4999675.28"
   ]
  }
 ],
 "metadata": {
  "kernelspec": {
   "display_name": "Python 3",
   "language": "python",
   "name": "python3"
  },
  "language_info": {
   "codemirror_mode": {
    "name": "ipython",
    "version": 3
   },
   "file_extension": ".py",
   "mimetype": "text/x-python",
   "name": "python",
   "nbconvert_exporter": "python",
   "pygments_lexer": "ipython3",
   "version": "3.6.1"
  }
 },
 "nbformat": 4,
 "nbformat_minor": 1
}
